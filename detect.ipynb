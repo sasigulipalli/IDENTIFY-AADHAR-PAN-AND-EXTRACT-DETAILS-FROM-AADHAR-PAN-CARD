{
 "cells": [
  {
   "cell_type": "code",
   "execution_count": 1,
   "id": "d3497679",
   "metadata": {},
   "outputs": [],
   "source": [
    "import json\n",
    "import pytesseract\n",
    "import cv2\n",
    "import numpy as np\n",
    "import sys\n",
    "import re\n",
    "import os\n",
    "from PIL import Image\n",
    "import ftfy\n",
    "import pan_read         \n",
    "'''module which we made to read the text of the document'''\n",
    "import aadhaar_read\n",
    "import io\n",
    "from os import listdir"
   ]
  },
  {
   "cell_type": "code",
   "execution_count": 2,
   "id": "948babdc",
   "metadata": {},
   "outputs": [
    {
     "name": "stdout",
     "output_type": "stream",
     "text": [
      "   \n",
      "\n",
      "i\n",
      
      "   \n",
      "\n",
      "   \n",
      "\n",
      "meal NAAN 9h 44 oHNnborpnern\n",
      "\f",
      "\n"
     ]
    }
   ],
   "source": [
    "filename = '/home/hemanth/sasi/anomaly/aadhar/input/2.jpg'\n",
    "text = pytesseract.image_to_string(Image.open(filename), lang = 'eng')\n",
    "print(text)\n",
    "\n",
    "text_output = open('/home/hemanth/sasi/anomaly/aadhar/output.txt', 'w', encoding='utf-8')\n",
    "text_output.write(text)\n",
    "text_output.close()\n",
    "\n",
    "file = open('/home/hemanth/sasi/anomaly/aadhar/output.txt', 'r', encoding='utf-8')\n",
    "text = file.read()\n",
    "\n",
    "text = ftfy.fix_text(text)\n",
    "text = ftfy.fix_encoding(text)"
   ]
  },
  {
   "cell_type": "code",
   "execution_count": 3,
   "id": "9f049d45",
   "metadata": {},
   "outputs": [
    {
     "name": "stdout",
     "output_type": "stream",
     "text": [
     
     ]
    }
   ],
   "source": [
    "if \"income\" in text.lower() or \"tax\" in text.lower() or \"department\"in text.lower() or \"Permanent\" in text.lower():\n",
    "    data = pan_read.pan_read_data(text)\n",
    "elif \"male\" or \"Female\" in text.lower():\n",
    "    data = aadhaar_read.adhaar_read_data(text)\n",
    "print(data)"
   ]
  },
  {
   "cell_type": "code",
   "execution_count": 4,
   "id": "2b7cff96",
   "metadata": {},
   "outputs": [],
   "source": [
    "try:\n",
    "    to_unicode = unicode\n",
    "except NameError:\n",
    "    to_unicode = str\n",
    "with io.open('info.json', 'w', encoding='utf-8') as outfile:\n",
    "    data = json.dumps(data, indent=4, sort_keys=True, separators=(',', ': '), ensure_ascii=False)\n",
    "    outfile.write(to_unicode(data))"
   ]
  },
  {
   "cell_type": "code",
   "execution_count": 5,
   "id": "60a91bd1",
   "metadata": {},
   "outputs": [],
   "source": [
    "with open('info.json', encoding = 'utf-8') as data:\n",
    "    data_loaded = json.load(data)"
   ]
  },
  {
   "cell_type": "code",
   "execution_count": 6,
   "id": "7071c845",
   "metadata": {},
   "outputs": [
    {
     "name": "stdout",
     "output_type": "stream",
     "text": [
      "\n",
      "---------- PAN Details ----------\n",
     
      "--------------------------------\n"
     ]
    }
   ],
   "source": [
    "if data_loaded['ID Type'] == 'PAN':\n",
    "    print(\"\\n---------- PAN Details ----------\")\n",
    "    print(\"\\nPAN Number: \",data_loaded['PAN'])\n",
    "    print(\"\\nName: \",data_loaded['Name'])\n",
    "    print(\"\\nFather's Name: \",data_loaded['Father Name'])\n",
    "    print(\"\\nDate Of Birth: \",data_loaded['Date of Birth'])\n",
    "    print(\"\\n--------------------------------\")\n",
    "elif data_loaded['ID Type'] == 'ADHAAR':\n",
    "    print(\"\\n---------- ADHAAR Details ----------\")\n",
    "    print(\"\\nADHAAR Number: \",data_loaded['Adhaar Number'])\n",
    "    print(\"\\nName: \",data_loaded['Name'])\n",
    "    print(\"\\nDate Of Birth: \",data_loaded['Date of Birth'])\n",
    "    print(\"\\nSex: \",data_loaded['Sex'])\n",
    "    print(\"\\n------------------------------------\")\n",
    "#k = input(\"\\n\\nPress Enter To EXIT\")\n",
    "#exit(0)"
   ]
  },
  {
   "cell_type": "code",
   "execution_count": null,
   "id": "20a0c812",
   "metadata": {},
   "outputs": [],
   "source": []
  }
 ],
 "metadata": {
  "kernelspec": {
   "display_name": "Python 3",
   "language": "python",
   "name": "python3"
  },
  "language_info": {
   "codemirror_mode": {
    "name": "ipython",
    "version": 3
   },
   "file_extension": ".py",
   "mimetype": "text/x-python",
   "name": "python",
   "nbconvert_exporter": "python",
   "pygments_lexer": "ipython3",
   "version": "3.6.13"
  }
 },
 "nbformat": 4,
 "nbformat_minor": 5
}
